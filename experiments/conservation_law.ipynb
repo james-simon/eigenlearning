{
  "cells": [
    {
      "attachments": {},
      "cell_type": "markdown",
      "metadata": {},
      "source": [
        "# Conservation of learnability\n",
        "\n",
        "See Section 3 and Figure 1 in [our paper](https://arxiv.org/abs/2110.03922).\n",
        "\n",
        "This experiment demonstrates the conservation of learnability for a fixed dataset. Informally, the dataset-learnability $\\mathcal{L}^{(\\mathcal{D})}(f)$ of a ground truth function $f$ is defined as the alignment between $f$ and the kernel regression estimator $\\hat f$ trained on a dataset of $n$ fixed training inputs, $\\mathcal{D}$, and their labels, $f(\\mathcal{D})$. The conservation law states that, if we fix $\\mathcal{D}$ and run ridgeless kernel regression on an orthogonal basis of target functions, the sum of $\\mathcal{D}$-learnabilities over each target basis function always comes out to $n$.\n",
        "\n",
        "$$\\sum_{f\\in\\mathcal{F}} \\mathcal{L}^{(\\mathcal{D})}(f) = n$$\n",
        "\n",
        "In our paper, we show that it is useful to set the orthogonal basis to be the eigenbasis of the kernel. In this experiment, we have a rotation-invariant kernel on the discretized unit circle, so the eigenfunctions are the sinusoids. This experiment demonstrates that the sum total of the $\\mathcal{D}$-learnabilities of these eigenfunctions is $n$.\n",
        "\n",
        "These results extend to wide neural networks in the kernel regime.\n",
        "\n",
        "Note: this notebook is written to work in Colab, and thus it installs the `eigenlearning` repo from Github. If the repo is already present on the system, the install cell can be skipped and the modules imported directly, and the saving to Drive can be replaced with saving locally.\n",
        "\n",
        "Please let us know if something doesn't work!"
      ]
    },
    {
      "cell_type": "code",
      "execution_count": null,
      "metadata": {
        "colab": {
          "base_uri": "https://localhost:8080/"
        },
        "id": "WpoZovrVYfpP",
        "outputId": "5be6c8f6-285c-414a-c6ac-30635b169d81"
      },
      "outputs": [],
      "source": [
        "import pickle\n",
        "\n",
        "import jax\n",
        "import jax.numpy as jnp\n",
        "import jax.random as random\n",
        "\n",
        "import matplotlib.gridspec as gridspec\n",
        "from matplotlib.colors import hsv_to_rgb\n",
        "import matplotlib.pyplot as plt\n",
        "\n",
        "import numpy as np\n",
        "!pip install -q git+https://www.github.com/google/neural-tangents"
      ]
    },
    {
      "cell_type": "code",
      "execution_count": null,
      "metadata": {
        "id": "pa70fMIx6hTv"
      },
      "outputs": [],
      "source": [
        "import os\n",
        "import sys\n",
        "\n",
        "if os.path.isdir('/content/eigenlearning'):\n",
        "    !rm -r '/content/eigenlearning'\n",
        "!git clone -q https://github.com/james-simon/eigenlearning.git\n",
        "sys.path.insert(0,'/content/eigenlearning')\n",
        "\n",
        "from data import *\n",
        "from expt import *\n",
        "from theory import *"
      ]
    },
    {
      "cell_type": "code",
      "execution_count": 2,
      "metadata": {
        "colab": {
          "base_uri": "https://localhost:8080/"
        },
        "id": "kmVDSXXUZmXK",
        "outputId": "a350d95d-c878-46f8-b33a-42afbc333301"
      },
      "outputs": [
        {
          "name": "stdout",
          "output_type": "stream",
          "text": [
            "Mounted at /content/drive\n"
          ]
        }
      ],
      "source": [
        "from google.colab import drive\n",
        "drive.mount('/content/drive')\n",
        "\n",
        "DIRECTORY = 'eigenlearning/'\n",
        "\n",
        "main_dir = '/content/drive/MyDrive/' + DIRECTORY\n",
        "expt_dir = main_dir + 'conservation_law/'\n",
        "for dir in [main_dir, expt_dir]:\n",
        "    if not os.path.exists(dir):\n",
        "        os.makedirs(dir)"
      ]
    },
    {
      "cell_type": "code",
      "execution_count": 58,
      "metadata": {
        "colab": {
          "base_uri": "https://localhost:8080/"
        },
        "id": "FwpbKOHrZmiE",
        "outputId": "8d5931eb-78a3-4c8c-e64b-1ccc47cbd73c"
      },
      "outputs": [
        {
          "name": "stderr",
          "output_type": "stream",
          "text": [
            "/usr/local/lib/python3.8/dist-packages/neural_tangents/_src/stax/elementwise.py:1162: UserWarning: Numerical Activation Layer with fn=<CompiledFunction of <function jax.numpy.tanh at 0x7f5be81760d0>>, deg=40 used!Note that numerical error is controlled by `deg` and for a giventolerance level, required `deg` will highly be dependent on the choiceof `fn`.\n",
            "  warnings.warn(\n",
            "/usr/local/lib/python3.8/dist-packages/neural_tangents/_src/stax/elementwise.py:1172: UserWarning: Using JAX autodiff to compute the `fn` derivative for NTK. Beware of https://jax.readthedocs.io/en/latest/faq.html#gradients-contain-nan-where-using-where.\n",
            "  warnings.warn(\n"
          ]
        }
      ],
      "source": [
        "expt_nets = [get_net_fns(width=500, d_out=1, n_hidden_layers=1),\n",
        "            get_net_fns(width=500, d_out=1, n_hidden_layers=4),\n",
        "            get_net_fns(width=500, d_out=1, n_hidden_layers=1, phi=jnp.tanh, W_std=1.5, b_std=.1),\n",
        "            get_net_fns(width=500, d_out=1, n_hidden_layers=4, phi=jnp.tanh, W_std=1.5, b_std=.1)]"
      ]
    },
    {
      "cell_type": "code",
      "execution_count": 60,
      "metadata": {
        "colab": {
          "base_uri": "https://localhost:8080/"
        },
        "id": "AdapQVQbaodB",
        "outputId": "fa189d69-da18-4617-aafa-654a66994336"
      },
      "outputs": [
        {
          "name": "stdout",
          "output_type": "stream",
          "text": [
            "testing (net=0, n_train=3)\n",
            "testing (net=0, n_train=6)\n",
            "\n",
            "testing (net=1, n_train=3)\n",
            "testing (net=1, n_train=6)\n",
            "\n",
            "testing (net=2, n_train=3)\n",
            "testing (net=2, n_train=6)\n",
            "\n",
            "testing (net=3, n_train=3)\n",
            "testing (net=3, n_train=6)\n",
            "\n"
          ]
        }
      ],
      "source": [
        "# define NN training objective\n",
        "def mse(y, y_hat):\n",
        "    return ((y - y_hat) ** 2).mean()\n",
        "\n",
        "# Initialize unit circle data domain on 10 discrete points\n",
        "M = 10\n",
        "domain = UnitCircle(M)\n",
        "\n",
        "results = {}\n",
        "trainset_sizes = [3, 6]\n",
        "cosine_modes = [(k,'c') for k in range(M//2 + 1)]\n",
        "sine_modes = [(k,'s') for k in range(1, (M+1)//2)]\n",
        "modes = cosine_modes + sine_modes\n",
        "key = jnp.array([0, 42], dtype='uint32')\n",
        "\n",
        "for i, net_fns in enumerate(expt_nets):\n",
        "    for n_train in trainset_sizes:\n",
        "        print(f'testing (net={i}, n_train={n_train})')\n",
        "\n",
        "        key, dataset_key = random.split(key, 2)\n",
        "        for mode in modes:\n",
        "            # target represents true function f; dict mapping mode identifier -> eigencoefficient\n",
        "            target = {mode: 1}\n",
        "            dataset = domain.get_dataset(target, n_train, n_test=M, subkey=dataset_key)\n",
        "\n",
        "            kernel_fn = net_fns[2]\n",
        "            k_train_y_hat, k_test_y_hat = train_kernel(kernel_fn, dataset, ridge=0)\n",
        "            key, subkey = random.split(key, 2)\n",
        "            nn_train_y_hat, nn_test_y_hat, _ = train_net(net_fns, dataset, loss=mse, subkey=subkey,\n",
        "                                                      n_epochs=10000, lr=0.5, stop_mse=1e-5)\n",
        "\n",
        "            y_test = dataset[3]\n",
        "            k_learnability = compute_metrics(y_test, k_test_y_hat)[0]\n",
        "            nn_learnability = compute_metrics(y_test, nn_test_y_hat)[0]\n",
        "            result = (k_learnability, nn_learnability)\n",
        "            results[(i, n_train, mode[0], mode[1])] = result\n",
        "    print()\n",
        "\n",
        "with open(expt_dir+'/results.pickle', 'wb') as handle:\n",
        "    pickle.dump(results, handle, protocol=pickle.HIGHEST_PROTOCOL)"
      ]
    },
    {
      "cell_type": "code",
      "execution_count": 62,
      "metadata": {
        "id": "x0OQI19IxMkh"
      },
      "outputs": [],
      "source": [
        "with open(expt_dir+'/results.pickle', 'rb') as handle:\n",
        "    results = pickle.load(handle)\n",
        "\n",
        "# extract some metadata\n",
        "n_train_vals = set()\n",
        "nns = set()\n",
        "modes = set()\n",
        "\n",
        "for i, n_train, k, m in results.keys():\n",
        "    nns.add(i)\n",
        "    n_train_vals.add(n_train)\n",
        "    modes.add((k,m))\n",
        "\n",
        "n_train_vals = sorted(list(n_train_vals))\n",
        "nns = np.array(sorted(list(nns)))\n",
        "modes = list(reversed(sorted(list(modes))))"
      ]
    },
    {
      "cell_type": "code",
      "execution_count": 63,
      "metadata": {
        "colab": {
          "base_uri": "https://localhost:8080/",
          "height": 297
        },
        "id": "URbwV12eyEKM",
        "outputId": "d9f74f66-5323-43ab-c35c-c801ffe583b4"
      },
      "outputs": [
        {
          "data": {
            "image/png": "[encoded data removed]",
            "text/plain": [
              "<Figure size 576x288 with 2 Axes>"
            ]
          },
          "metadata": {
            "needs_background": "light"
          },
          "output_type": "display_data"
        }
      ],
      "source": [
        "colors_ker = [hsv_to_rgb((1 - (i+1)/len(modes),.5,1)) for i in range(len(modes))]\n",
        "colors_net = [hsv_to_rgb((1 - (i+1)/len(modes),.5,1)) for i in range(len(modes))]\n",
        "\n",
        "fig, axs = plt.subplots(nrows=1, ncols=len(n_train_vals), figsize=(8,4))\n",
        "\n",
        "A, B = 4, 1.2\n",
        "\n",
        "for i, n in enumerate(n_train_vals):\n",
        "    ax = axs[i]\n",
        "\n",
        "    total_lrns_k = np.zeros_like(nns).astype(float)\n",
        "    total_lrns_n = np.zeros_like(nns).astype(float)\n",
        "\n",
        "    for j, (k, m) in enumerate(modes):\n",
        "        mode_lrns_k = np.array([results[a,n,k,m][0] for a in nns])\n",
        "        mode_lrns_n = np.array([results[a,n,k,m][1] for a in nns])\n",
        "\n",
        "        ax.bar(A*nns, mode_lrns_k, width=1, bottom=total_lrns_k, color=colors_ker[j],\n",
        "               edgecolor=(0,0,0), label='kernel' if j==len(modes)-1 else None)\n",
        "        ax.bar(A*nns + B, mode_lrns_n, width=1, bottom=total_lrns_n, color=colors_net[j],\n",
        "               edgecolor=(0,0,0), label='net' if j==len(modes)-1 else None)\n",
        "\n",
        "        total_lrns_k += mode_lrns_k\n",
        "        total_lrns_n += mode_lrns_n\n",
        "\n",
        "    ax.plot([-10,100], [n,n], color=(0,0,0,.7), linestyle='--', lw=3)\n",
        "    ax.set_xlim(-1, A*(len(nns)-1)+B+1)\n",
        "    ax.set_ylim((0, 10))\n",
        "\n",
        "    xtick_xs = []\n",
        "    xtick_labels = []\n",
        "    for j in nns:\n",
        "        net_name = ['1HL\\nReLU', '4HL\\nReLU', '1HL\\ntanh', '4HL\\ntanh'][j]\n",
        "        xtick_xs += [j*A + B/2]\n",
        "        xtick_labels += [net_name]\n",
        "    ax.set_xticks(xtick_xs)\n",
        "    ax.set_xticklabels(xtick_labels, fontsize=17)\n",
        "    ax.set_yticks(range(0,11,2), minor=False)\n",
        "    ax.set_yticks(range(1,10,2), minor=True)\n",
        "\n",
        "    ax.tick_params(axis='x', which='major', length=0)\n",
        "    ax.tick_params(axis='y', which='major', labelsize=17)\n",
        "\n",
        "    if i > 0:\n",
        "        ax.set_yticklabels([])\n",
        "    if i == 0:\n",
        "        ax.set_ylabel(r'$\\mathcal{L}^{(\\mathcal{D})}(\\phi_k)$', fontsize=30)\n",
        "\n",
        "    ax.set_title(f'$n={n}$', fontsize=25, y=1.03)\n",
        "\n",
        "    if i == 0:\n",
        "        ax.text(0, 3.5, 'kernel', va='bottom', ha='center', rotation=90, fontsize=17)\n",
        "        ax.text(B, 3.5, 'net', va='bottom', ha='center', rotation=90, fontsize=17)\n",
        "\n",
        "    ax.text(.05, .89, 'AB'[i], transform=ax.transAxes, size=20, weight='bold', ha='center')\n",
        "\n",
        "fig.tight_layout()\n",
        "plt.show()\n",
        "# plt.savefig('conservation_of_lrn.pdf')"
      ]
    },
    {
      "cell_type": "code",
      "execution_count": null,
      "metadata": {
        "id": "CKnKZsIKloR3"
      },
      "outputs": [],
      "source": []
    }
  ],
  "metadata": {
    "accelerator": "GPU",
    "colab": {
      "provenance": []
    },
    "gpuClass": "standard",
    "kernelspec": {
      "display_name": "research",
      "language": "python",
      "name": "python3"
    },
    "language_info": {
      "codemirror_mode": {
        "name": "ipython",
        "version": 3
      },
      "file_extension": ".py",
      "mimetype": "text/x-python",
      "name": "python",
      "nbconvert_exporter": "python",
      "pygments_lexer": "ipython3",
      "version": "3.10.4"
    },
    "vscode": {
      "interpreter": {
        "hash": "2d837e875acc4e32bb84993a845eddeb519c86b2a2fba1165e2cdc1f52f9c53d"
      }
    }
  },
  "nbformat": 4,
  "nbformat_minor": 0
}

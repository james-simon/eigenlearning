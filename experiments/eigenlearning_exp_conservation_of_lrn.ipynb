{
  "nbformat": 4,
  "nbformat_minor": 0,
  "metadata": {
    "colab": {
      "name": "eigenlearning exp - conservation of lrn",
      "provenance": []
    },
    "kernelspec": {
      "name": "python3",
      "display_name": "Python 3"
    },
    "language_info": {
      "name": "python"
    }
  },
  "cells": [
    {
      "cell_type": "markdown",
      "source": [
        "Note: this notebook is written to work in Colab, and thus it installs the `eigenlearning` repo from Github. If the repo is already present on the system, the install cell can be skipped and the modules imported directly, and the saving to Drive can be replaced with saving locally.\n",
        "\n",
        "Another note: we assembled these notebooks out of modular parts from other notebooks, and thus we have not run all of them. If something doesn't work, let us know and we'll be glad to know and happy to fix it."
      ],
      "metadata": {
        "id": "HB45tl4zsOqh"
      }
    },
    {
      "cell_type": "markdown",
      "metadata": {
        "id": "yav5j0-llRPf"
      },
      "source": [
        "# Imports and installs"
      ]
    },
    {
      "cell_type": "code",
      "metadata": {
        "id": "freeanHRdMte",
        "colab": {
          "base_uri": "https://localhost:8080/"
        },
        "outputId": "e024a0ba-1731-4d1f-b391-0d93e4621ffe"
      },
      "source": [
        "!pip install -q git+https://www.github.com/google/neural-tangents\n",
        "\n",
        "import os\n",
        "import sys\n",
        "\n",
        "if os.path.isdir('/content/eigenlearning'):\n",
        "  !rm -r '/content/eigenlearning'\n",
        "!git clone -q https://github.com/james-simon/eigenlearning.git\n",
        "sys.path.insert(0,'/content/eigenlearning')"
      ],
      "execution_count": null,
      "outputs": [
        {
          "output_type": "stream",
          "name": "stdout",
          "text": [
            "\u001b[?25l\r\u001b[K     |███▌                            | 10 kB 16.1 MB/s eta 0:00:01\r\u001b[K     |███████                         | 20 kB 19.1 MB/s eta 0:00:01\r\u001b[K     |██████████▋                     | 30 kB 15.4 MB/s eta 0:00:01\r\u001b[K     |██████████████▏                 | 40 kB 10.6 MB/s eta 0:00:01\r\u001b[K     |█████████████████▋              | 51 kB 10.5 MB/s eta 0:00:01\r\u001b[K     |█████████████████████▏          | 61 kB 9.7 MB/s eta 0:00:01\r\u001b[K     |████████████████████████▊       | 71 kB 9.4 MB/s eta 0:00:01\r\u001b[K     |████████████████████████████▎   | 81 kB 10.3 MB/s eta 0:00:01\r\u001b[K     |███████████████████████████████▉| 92 kB 11.3 MB/s eta 0:00:01\r\u001b[K     |████████████████████████████████| 92 kB 734 kB/s \n",
            "\u001b[?25h  Building wheel for neural-tangents (setup.py) ... \u001b[?25l\u001b[?25hdone\n"
          ]
        }
      ]
    },
    {
      "cell_type": "code",
      "metadata": {
        "id": "74TQWvIHig28"
      },
      "source": [
        "import json\n",
        "import math\n",
        "\n",
        "import jax\n",
        "from jax import grad\n",
        "import jax.numpy as np\n",
        "import jax.random as random\n",
        "\n",
        "import matplotlib.gridspec as gridspec\n",
        "from matplotlib.colors import hsv_to_rgb\n",
        "import matplotlib.pyplot as plt\n",
        "\n",
        "import numpy as basenp"
      ],
      "execution_count": null,
      "outputs": []
    },
    {
      "cell_type": "code",
      "metadata": {
        "id": "eTt6JdUkdRwi",
        "colab": {
          "base_uri": "https://localhost:8080/"
        },
        "outputId": "4d79bbd5-a4d5-441f-a086-e09af77f6d9e"
      },
      "source": [
        "from utils import get_net_fns, net_predictions, kernel_predictions, mse\n",
        "from measures import learning_measure_predictions, learning_measure_statistics, find_C\n",
        "from unit_circle import unit_circle_eigenvalues, get_unit_circle_dataset\n",
        "from hypercube import hypercube_eigenvalues, get_hypercube_dataset\n",
        "from hypersphere import hypersphere_eigenvalues, get_hypersphere_dataset, hyp_har_multiplicity\n",
        "from image_datasets import get_image_dataset"
      ],
      "execution_count": null,
      "outputs": [
        {
          "output_type": "stream",
          "name": "stderr",
          "text": [
            "/usr/local/lib/python3.7/dist-packages/jax/experimental/optimizers.py:30: FutureWarning: jax.experimental.optimizers is deprecated, import jax.example_libraries.optimizers instead\n",
            "  FutureWarning)\n"
          ]
        }
      ]
    },
    {
      "cell_type": "code",
      "metadata": {
        "id": "_ahFK52kf3_a",
        "colab": {
          "base_uri": "https://localhost:8080/"
        },
        "outputId": "7765ca91-f39e-4a8e-b44a-d1cf9edda76e"
      },
      "source": [
        "from google.colab import drive\n",
        "drive.mount('/content/drive')"
      ],
      "execution_count": null,
      "outputs": [
        {
          "output_type": "stream",
          "name": "stdout",
          "text": [
            "Mounted at /content/drive\n"
          ]
        }
      ]
    },
    {
      "cell_type": "markdown",
      "source": [
        "# Run experiment and save data"
      ],
      "metadata": {
        "id": "sl7Y-gXGtV9O"
      }
    },
    {
      "cell_type": "code",
      "source": [
        "main_dir = '/content/drive/DIRECTORY/conservation_of_lrn'"
      ],
      "metadata": {
        "id": "Idvr9O4TuAM-"
      },
      "execution_count": null,
      "outputs": []
    },
    {
      "cell_type": "code",
      "metadata": {
        "id": "VZscNCPd2UC6"
      },
      "source": [
        "for dir in [main_dir, main_dir+'/circle']:\n",
        "  if not os.path.exists(dir):\n",
        "      os.makedirs(dir)"
      ],
      "execution_count": null,
      "outputs": []
    },
    {
      "cell_type": "code",
      "metadata": {
        "id": "KlcCwpvMkKK9"
      },
      "source": [
        "net_fn_sets = []\n",
        "net_fn_sets += [get_net_fns(width=500, d_out=1, n_hidden_layers=1)]\n",
        "net_fn_sets += [get_net_fns(width=500, d_out=1, n_hidden_layers=4)]\n",
        "net_fn_sets += [get_net_fns(width=500, d_out=1, n_hidden_layers=1, phi=np.tanh, W_std=1.5, b_std=.1)]\n",
        "net_fn_sets += [get_net_fns(width=500, d_out=1, n_hidden_layers=4, phi=np.tanh, W_std=1.5, b_std=.1)]"
      ],
      "execution_count": null,
      "outputs": []
    },
    {
      "cell_type": "code",
      "metadata": {
        "id": "Z8QYg6ylqKZk",
        "colab": {
          "base_uri": "https://localhost:8080/"
        },
        "outputId": "19030c90-3cde-4051-899e-3e1061a91ef2"
      },
      "source": [
        "M = 10\n",
        "ns_exp = [3, 6]\n",
        "modes = [(k,'c') for k in range(M//2 + 1)] + [(k,'s') for k in range(1, (M+1)//2)]\n",
        "print(modes)"
      ],
      "execution_count": null,
      "outputs": [
        {
          "output_type": "stream",
          "name": "stdout",
          "text": [
            "[(0, 'c'), (1, 'c'), (2, 'c'), (3, 'c'), (4, 'c'), (5, 'c'), (1, 's'), (2, 's'), (3, 's'), (4, 's')]\n"
          ]
        }
      ]
    },
    {
      "cell_type": "code",
      "metadata": {
        "id": "T_cVzJKcqKZk"
      },
      "source": [
        "exp_params = {\n",
        "    'domain': 'circle',\n",
        "    'M': M,\n",
        "    'n': None,\n",
        "    'f_terms': None,\n",
        "    'g_terms': [],\n",
        "    'n_epochs': 10000,\n",
        "    'lr': .5,\n",
        "    'stop_mse': 10**-5,\n",
        "    'print_every': None,\n",
        "    'n_trials': 1,\n",
        "    'seed': 1,\n",
        "    'pred_type': 'both'\n",
        "}"
      ],
      "execution_count": null,
      "outputs": []
    },
    {
      "cell_type": "code",
      "metadata": {
        "id": "6teevfiWp5i1"
      },
      "source": [
        "results_exp = {}\n",
        "\n",
        "for a, net_fns in enumerate(net_fn_sets):\n",
        "  for n in ns_exp:\n",
        "    print(f'testing (a={a}, n={n})')\n",
        "    exp_params['n'] = n\n",
        "\n",
        "    for mode in modes:\n",
        "      exp_params['f_terms'] = {mode : 1}\n",
        "      results_exp[str(a)+','+str(n)+','+str(mode[0])+','+str(mode[1])] = learning_measure_statistics(net_fns, **exp_params)\n",
        "    \n",
        "    with open(main_dir+'/circle/results_exp.json', 'w') as file:\n",
        "      json.dump(results_exp, file)\n",
        "  print()"
      ],
      "execution_count": null,
      "outputs": []
    },
    {
      "cell_type": "markdown",
      "source": [
        "# Load data and make figure"
      ],
      "metadata": {
        "id": "EbmP4exHtX8m"
      }
    },
    {
      "cell_type": "code",
      "metadata": {
        "id": "9buPIsbP6oRm"
      },
      "source": [
        "results = {'circle': {'exp' : {}}}\n",
        "\n",
        "with open(main_dir + '/circle/results_exp.json', 'r') as file:\n",
        "  results['circle']['exp'] = json.load(file)"
      ],
      "execution_count": null,
      "outputs": []
    },
    {
      "cell_type": "markdown",
      "metadata": {
        "id": "BALq7OsB6oRm"
      },
      "source": [
        "##### Convert results from string keys to tuple keys"
      ]
    },
    {
      "cell_type": "code",
      "metadata": {
        "id": "jkIWGoEw6oRm"
      },
      "source": [
        "keys = list(results['circle']['exp'].keys())\n",
        "for key in keys:\n",
        "  if isinstance(key, str):\n",
        "    a, n, k, m = [int(x) if x.isdigit() else x for x in key.split(',')]\n",
        "    results['circle']['exp'][(a, n, k, m)] = results['circle']['exp'][key]\n",
        "    del results['circle']['exp'][key]"
      ],
      "execution_count": null,
      "outputs": []
    },
    {
      "cell_type": "markdown",
      "metadata": {
        "id": "xiSa9Qch6oRn"
      },
      "source": [
        "##### Extract some metadata"
      ]
    },
    {
      "cell_type": "code",
      "metadata": {
        "id": "xRlFvAUQ6oRn"
      },
      "source": [
        "metadata = {'as':set(), 'ns':set(), 'modes':set()}\n",
        "\n",
        "for a, n, k, m in results['circle']['exp'].keys():\n",
        "  metadata['as'].add(a)\n",
        "  metadata['ns'].add(n)\n",
        "  metadata['modes'].add((k,m))\n",
        "\n",
        "for key in metadata:\n",
        "  metadata[key] = sorted(list(metadata[key]))"
      ],
      "execution_count": null,
      "outputs": []
    },
    {
      "cell_type": "markdown",
      "metadata": {
        "id": "VXQvAVpF9RAu"
      },
      "source": [
        "Make plots"
      ]
    },
    {
      "cell_type": "code",
      "metadata": {
        "colab": {
          "base_uri": "https://localhost:8080/",
          "height": 297
        },
        "id": "uBV9GS1P8W1c",
        "outputId": "093f0799-23bf-4d83-b7cf-ab08c0d2c159"
      },
      "source": [
        "ns = metadata['ns']\n",
        "archs = np.array(metadata['as'])\n",
        "modes = list(reversed(metadata['modes']))\n",
        "\n",
        "colors_ker = [hsv_to_rgb((1 - (i+1)/len(modes),.5,1)) for i in range(len(modes))]\n",
        "colors_net = [hsv_to_rgb((1 - (i+1)/len(modes),.5,1)) for i in range(len(modes))]\n",
        "\n",
        "fig, axs = plt.subplots(nrows=1, ncols=len(ns), figsize=(8,4))\n",
        "\n",
        "A, B = 4, 1.2\n",
        "\n",
        "for i, n in enumerate(ns):\n",
        "  ax = axs[i]\n",
        "\n",
        "  total_lrns_k = np.zeros_like(archs)\n",
        "  total_lrns_n = np.zeros_like(archs)\n",
        "\n",
        "  for j, (k, m) in enumerate(modes):\n",
        "    mode_lrns_k = np.array([results['circle']['exp'][a,n,k,m]['kernel']['lrn'][0] for a in archs])\n",
        "    mode_lrns_n = np.array([results['circle']['exp'][a,n,k,m]['net']['lrn'][0] for a in archs])\n",
        "\n",
        "    ax.bar(A*archs, mode_lrns_k, width=1, bottom=total_lrns_k, color=colors_ker[j], edgecolor=(0,0,0), label='kernel' if j==len(modes)-1 else None)\n",
        "    ax.bar(A*archs + B, mode_lrns_n, width=1, bottom=total_lrns_n, color=colors_net[j], edgecolor=(0,0,0), label='net' if j==len(modes)-1 else None)\n",
        "\n",
        "    total_lrns_k += mode_lrns_k\n",
        "    total_lrns_n += mode_lrns_n\n",
        "\n",
        "  ax.plot([-10,100], [n,n], color=(0,0,0,.7), linestyle='--', lw=3)\n",
        "  ax.set_xlim(-1, A*(len(archs)-1)+B+1)\n",
        "  ax.set_ylim((0, 10))\n",
        "\n",
        "  xtick_xs = []\n",
        "  xtick_labels = []\n",
        "  for a in archs:\n",
        "    net_name = ['1HL\\nReLU', '4HL\\nReLU', '1HL\\ntanh', '4HL\\ntanh'][a]\n",
        "    xtick_xs += [a*A + B/2]\n",
        "    xtick_labels += [net_name]\n",
        "  ax.set_xticks(xtick_xs)\n",
        "  ax.set_xticklabels(xtick_labels, fontsize=17)\n",
        "  ax.set_yticks(range(0,11,2), minor=False)\n",
        "  ax.set_yticks(range(1,10,2), minor=True)\n",
        "\n",
        "  ax.tick_params(axis='x', which='major', length=0)\n",
        "  ax.tick_params(axis='y', which='major', labelsize=17)\n",
        "\n",
        "  if i > 0:\n",
        "    ax.set_yticklabels([])\n",
        "  if i == 0:\n",
        "    ax.set_ylabel(r'$\\mathcal{L}^{(\\mathcal{D})}(\\phi_k)$', fontsize=30)\n",
        "\n",
        "  ax.set_title(f'$n={n}$', fontsize=25, y=1.03)\n",
        "\n",
        "  if i == 0:\n",
        "    ax.text(0, 3.5, 'kernel', va='bottom', ha='center', rotation=90, fontsize=17)\n",
        "    ax.text(B, 3.5, 'net', va='bottom', ha='center', rotation=90, fontsize=17)\n",
        "\n",
        "  ax.text(.05, .89, 'AB'[i], transform=ax.transAxes, size=20, weight='bold', ha='center')\n",
        "\n",
        "fig.tight_layout()\n",
        "\n",
        "plt.savefig('conservation_of_lrn.pdf')"
      ],
      "execution_count": null,
      "outputs": [
        {
          "output_type": "display_data",
          "data": {
            "image/png": "[encoded data removed]",
            "text/plain": [
              "<Figure size 576x288 with 2 Axes>"
            ]
          },
          "metadata": {
            "needs_background": "light"
          }
        }
      ]
    }
  ]
}
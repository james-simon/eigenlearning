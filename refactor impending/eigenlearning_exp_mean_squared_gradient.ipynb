{
  "cells": [
    {
      "cell_type": "markdown",
      "metadata": {
        "id": "HB45tl4zsOqh"
      },
      "source": [
        "Note: this notebook is written to work in Colab, and thus it installs the `eigenlearning` repo from Github. If the repo is already present on the system, the install cell can be skipped and the modules imported directly, and the saving to Drive can be replaced with saving locally.\n",
        "\n",
        "Another note: we assembled these notebooks out of modular parts from other notebooks, and thus we have not run all of them. If something doesn't work, let us know and we'll be glad to know and happy to fix it."
      ]
    },
    {
      "cell_type": "markdown",
      "metadata": {
        "id": "yav5j0-llRPf"
      },
      "source": [
        "# Imports and installs"
      ]
    },
    {
      "cell_type": "code",
      "execution_count": null,
      "metadata": {
        "colab": {
          "base_uri": "https://localhost:8080/"
        },
        "id": "freeanHRdMte",
        "outputId": "e024a0ba-1731-4d1f-b391-0d93e4621ffe"
      },
      "outputs": [
        {
          "name": "stdout",
          "output_type": "stream",
          "text": [
            "\u001b[?25l\r\u001b[K     |███▌                            | 10 kB 16.1 MB/s eta 0:00:01\r\u001b[K     |███████                         | 20 kB 19.1 MB/s eta 0:00:01\r\u001b[K     |██████████▋                     | 30 kB 15.4 MB/s eta 0:00:01\r\u001b[K     |██████████████▏                 | 40 kB 10.6 MB/s eta 0:00:01\r\u001b[K     |█████████████████▋              | 51 kB 10.5 MB/s eta 0:00:01\r\u001b[K     |█████████████████████▏          | 61 kB 9.7 MB/s eta 0:00:01\r\u001b[K     |████████████████████████▊       | 71 kB 9.4 MB/s eta 0:00:01\r\u001b[K     |████████████████████████████▎   | 81 kB 10.3 MB/s eta 0:00:01\r\u001b[K     |███████████████████████████████▉| 92 kB 11.3 MB/s eta 0:00:01\r\u001b[K     |████████████████████████████████| 92 kB 734 kB/s \n",
            "\u001b[?25h  Building wheel for neural-tangents (setup.py) ... \u001b[?25l\u001b[?25hdone\n"
          ]
        }
      ],
      "source": [
        "!pip install -q git+https://www.github.com/google/neural-tangents\n",
        "\n",
        "import os\n",
        "import sys\n",
        "\n",
        "if os.path.isdir('/content/eigenlearning'):\n",
        "  !rm -r '/content/eigenlearning'\n",
        "!git clone -q https://github.com/james-simon/eigenlearning.git\n",
        "sys.path.insert(0,'/content/eigenlearning')"
      ]
    },
    {
      "cell_type": "code",
      "execution_count": null,
      "metadata": {
        "id": "74TQWvIHig28"
      },
      "outputs": [],
      "source": [
        "import json\n",
        "import math\n",
        "\n",
        "import jax\n",
        "from jax import grad\n",
        "import jax.numpy as np\n",
        "import jax.random as random\n",
        "\n",
        "import matplotlib.gridspec as gridspec\n",
        "from matplotlib.colors import hsv_to_rgb\n",
        "import matplotlib.pyplot as plt\n",
        "\n",
        "import numpy as basenp"
      ]
    },
    {
      "cell_type": "code",
      "execution_count": null,
      "metadata": {
        "colab": {
          "base_uri": "https://localhost:8080/"
        },
        "id": "eTt6JdUkdRwi",
        "outputId": "4d79bbd5-a4d5-441f-a086-e09af77f6d9e"
      },
      "outputs": [
        {
          "name": "stderr",
          "output_type": "stream",
          "text": [
            "/usr/local/lib/python3.7/dist-packages/jax/experimental/optimizers.py:30: FutureWarning: jax.experimental.optimizers is deprecated, import jax.example_libraries.optimizers instead\n",
            "  FutureWarning)\n"
          ]
        }
      ],
      "source": [
        "from utils import get_net_fns, net_predictions, kernel_predictions, mse\n",
        "from measures import learning_measure_predictions, learning_measure_statistics, find_C\n",
        "from unit_circle import unit_circle_eigenvalues, get_unit_circle_dataset\n",
        "from hypercube import hypercube_eigenvalues, get_hypercube_dataset\n",
        "from hypersphere import hypersphere_eigenvalues, get_hypersphere_dataset, hyp_har_multiplicity\n",
        "from image_datasets import get_image_dataset"
      ]
    },
    {
      "cell_type": "code",
      "execution_count": null,
      "metadata": {
        "colab": {
          "base_uri": "https://localhost:8080/"
        },
        "id": "_ahFK52kf3_a",
        "outputId": "7765ca91-f39e-4a8e-b44a-d1cf9edda76e"
      },
      "outputs": [
        {
          "name": "stdout",
          "output_type": "stream",
          "text": [
            "Mounted at /content/drive\n"
          ]
        }
      ],
      "source": [
        "from google.colab import drive\n",
        "drive.mount('/content/drive')"
      ]
    },
    {
      "cell_type": "markdown",
      "metadata": {
        "id": "sl7Y-gXGtV9O"
      },
      "source": [
        "# Run experiment and save data"
      ]
    },
    {
      "cell_type": "code",
      "execution_count": null,
      "metadata": {
        "id": "Idvr9O4TuAM-"
      },
      "outputs": [],
      "source": [
        "main_dir = '/content/drive/DIRECTORY/mean_squared_gradient'"
      ]
    },
    {
      "cell_type": "code",
      "execution_count": null,
      "metadata": {
        "id": "nNjW6iBhofUt"
      },
      "outputs": [],
      "source": [
        "for dir in [main_dir, main_dir+'/circle', main_dir+'/hypersphere']:\n",
        "  if not os.path.exists(dir):\n",
        "      os.makedirs(dir)"
      ]
    },
    {
      "cell_type": "code",
      "execution_count": null,
      "metadata": {
        "id": "2vYuk_oTe3oa"
      },
      "outputs": [],
      "source": [
        "net_fns = get_net_fns(width=500, d_out=1, n_hidden_layers=4)"
      ]
    },
    {
      "cell_type": "markdown",
      "metadata": {
        "id": "hI1W4u0akFS_"
      },
      "source": [
        "## Unit circle"
      ]
    },
    {
      "cell_type": "markdown",
      "metadata": {
        "id": "3Bd2QFfJPZCc"
      },
      "source": [
        "### Helpers"
      ]
    },
    {
      "cell_type": "code",
      "execution_count": null,
      "metadata": {
        "id": "h4xWrpaHhsht"
      },
      "outputs": [],
      "source": [
        "def mean_grad_square(y):\n",
        "  mean_diff_square = ((y - np.roll(y, shift=1))**2).mean().item()\n",
        "  d_theta = 2*np.pi / len(y)\n",
        "  return mean_diff_square / d_theta**2"
      ]
    },
    {
      "cell_type": "code",
      "execution_count": null,
      "metadata": {
        "id": "Z0l1ogzxH9GY"
      },
      "outputs": [],
      "source": [
        "def mean_grad_square_prediction(kernel_fn, k, n):\n",
        "  target_f = {(k, 'c') : 1}\n",
        "  all_modes = [{(i, 'c') : 1} for i in range(M//2 + 1)] + [{(i, 's') : 1} for i in range(1, (M-1)//2 + 1)]\n",
        "\n",
        "  preds = learning_measure_predictions(net_fns[2], 'circle', n, target_f, all_modes, M=M)\n",
        "\n",
        "  return sum([list(all_modes[i].keys())[0][0]**2 * (preds['g_coeffs'][i][0]**2 + preds['g_coeffs'][i][1]**2) for i in range(len(all_modes))])"
      ]
    },
    {
      "cell_type": "code",
      "execution_count": null,
      "metadata": {
        "id": "UqebwSVOPTPG"
      },
      "outputs": [],
      "source": [
        "def mean_grad_square_statistics(net_fns, k, n, pred_type='kernel', exp_params=None):\n",
        "  global key\n",
        "\n",
        "  M = exp_params['M']\n",
        "  target_f = {(k, 'c') : 1}\n",
        "  all_modes = [{(i, 'c') : 1} for i in range(M//2 + 1)] + [{(i, 's') : 1} for i in range(1, (M-1)//2 + 1)]\n",
        "\n",
        "  test_thetas, test_X, all_test_ys = get_unit_circle_dataset(M, [target_f] + all_modes)\n",
        "  test_y, all_mode_ys = all_test_ys[0], all_test_ys[1:]\n",
        "  \n",
        "  m_g_ss = []\n",
        "  for _ in range(exp_params['n_trials']):\n",
        "    key, subkey1, subkey2 = random.split(key, 3)\n",
        "    train_thetas, train_X, [train_y] = get_unit_circle_dataset(M, [target_f], full=False, n=n, subkey=subkey1)\n",
        "\n",
        "    dataset = (train_X, train_y), (test_X, test_y)\n",
        "\n",
        "    if pred_type == 'kernel':\n",
        "      test_y_hat = kernel_predictions(net_fns[2], dataset)\n",
        "    else:\n",
        "      test_y_hat = net_predictions(net_fns,\n",
        "                                   dataset,\n",
        "                                   n_epochs=exp_params['n_epochs'],\n",
        "                                   lr=exp_params['lr'],\n",
        "                                   stop_mse=exp_params['stop_mse'],\n",
        "                                   print_every=exp_params['print_every'],\n",
        "                                   subkey=subkey2)['test_preds']\n",
        "\n",
        "    m_g_ss += [mean_grad_square(test_y_hat)]\n",
        "  \n",
        "  m_g_ss = np.array(m_g_ss)\n",
        "  return (m_g_ss.mean().item(), m_g_ss.std().item())"
      ]
    },
    {
      "cell_type": "markdown",
      "metadata": {
        "id": "NMJFBa3xPawo"
      },
      "source": [
        "### Experiment"
      ]
    },
    {
      "cell_type": "code",
      "execution_count": null,
      "metadata": {
        "id": "i5Wt1LK0PcMk"
      },
      "outputs": [],
      "source": [
        "key = random.PRNGKey(17)"
      ]
    },
    {
      "cell_type": "code",
      "execution_count": null,
      "metadata": {
        "id": "tmPDR6x7OWpj"
      },
      "outputs": [],
      "source": [
        "net_fns = get_net_fns(width=500, d_out=1, n_hidden_layers=4)"
      ]
    },
    {
      "cell_type": "code",
      "execution_count": null,
      "metadata": {
        "id": "ue5GT_igOeJ0"
      },
      "outputs": [],
      "source": [
        "M = 256\n",
        "ks = [1, 2, 4, 8, 16]\n",
        "\n",
        "ns_exp = [2**i for i in range(0,9)]\n",
        "ns_th = np.logspace(np.log10(ns_exp[0]), np.log10(ns_exp[-1]))"
      ]
    },
    {
      "cell_type": "code",
      "execution_count": null,
      "metadata": {
        "id": "hQiZZp7tO3ty"
      },
      "outputs": [],
      "source": [
        "pred_msg, kernel_msg, net_msg = {}, {}, {}"
      ]
    },
    {
      "cell_type": "code",
      "execution_count": null,
      "metadata": {
        "id": "PxRmzHIxQnI9"
      },
      "outputs": [],
      "source": [
        "exp_params = {\n",
        "    'M' : M,\n",
        "    'n_epochs': 10000,\n",
        "    'lr': .5,\n",
        "    'stop_mse': 10**-5,\n",
        "    'print_every': None,\n",
        "    'n_trials' : 30\n",
        "}"
      ]
    },
    {
      "cell_type": "markdown",
      "metadata": {
        "id": "qT6iiRORQT5K"
      },
      "source": [
        "#### Compute theoretical predictions"
      ]
    },
    {
      "cell_type": "code",
      "execution_count": null,
      "metadata": {
        "id": "eAGf2JLIPEW6"
      },
      "outputs": [],
      "source": [
        "for k in ks:\n",
        "  for i, n in enumerate(ns_th):\n",
        "    if i % 10 == 0:\n",
        "      print(k,n)\n",
        "    pred_msg[str(k) + ',' + '%.3f'%n] = mean_grad_square_prediction(net_fns[2], k, n)"
      ]
    },
    {
      "cell_type": "code",
      "execution_count": null,
      "metadata": {
        "id": "9qdRKUsnRW0W"
      },
      "outputs": [],
      "source": [
        "with open(main_dir+'/circle/results_th.json', 'w') as file:\n",
        "  json.dump(pred_msg, file)"
      ]
    },
    {
      "cell_type": "markdown",
      "metadata": {
        "id": "szWuSbCNQWFo"
      },
      "source": [
        "#### Kernel experiments"
      ]
    },
    {
      "cell_type": "code",
      "execution_count": null,
      "metadata": {
        "id": "-ExjOLeSQavm"
      },
      "outputs": [],
      "source": [
        "for k in ks:\n",
        "  for n in ns_exp:\n",
        "    print(k,n)\n",
        "    kernel_msg[f'{k},{n}'] = mean_grad_square_statistics(net_fns, k, n, pred_type='kernel', exp_params=exp_params)"
      ]
    },
    {
      "cell_type": "code",
      "execution_count": null,
      "metadata": {
        "id": "DjT1gRSlR23V"
      },
      "outputs": [],
      "source": [
        "with open(main_dir+'/circle/results_kernel.json', 'w') as file:\n",
        "  json.dump(kernel_msg, file)"
      ]
    },
    {
      "cell_type": "markdown",
      "metadata": {
        "id": "FGuTIVRxQXji"
      },
      "source": [
        "#### Net experiments"
      ]
    },
    {
      "cell_type": "code",
      "execution_count": null,
      "metadata": {
        "id": "XtS4BTNoQjcO"
      },
      "outputs": [],
      "source": [
        "for k in ks:\n",
        "  for n in ns_exp:\n",
        "    net_msg[f'{k},{n}'] = mean_grad_square_statistics(net_fns, k, n, pred_type='net', exp_params=exp_params)"
      ]
    },
    {
      "cell_type": "code",
      "execution_count": null,
      "metadata": {
        "id": "QzUGRZApR3Mt"
      },
      "outputs": [],
      "source": [
        "with open(main_dir+'/circle/results_net.json', 'w') as file:\n",
        "  json.dump(net_msg, file)"
      ]
    },
    {
      "cell_type": "markdown",
      "metadata": {
        "id": "eaIjSdX7kJey"
      },
      "source": [
        "## Hypersphere"
      ]
    },
    {
      "cell_type": "markdown",
      "metadata": {
        "id": "J6UpzCDQkNEm"
      },
      "source": [
        "### Helpers"
      ]
    },
    {
      "cell_type": "code",
      "execution_count": null,
      "metadata": {
        "id": "DnEpShCkkcO1"
      },
      "outputs": [],
      "source": [
        "def hypersphere_mean_grad_square_prediction(kernel_fn, d, k, n):\n",
        "  target_f = {k : 1}\n",
        "  all_modes = [{i : 1} for i in range(70)]\n",
        "  preds = learning_measure_predictions(kernel_fn, 'hypersphere', n, target_f, all_modes, d=d)\n",
        "\n",
        "  return sum(list([k * (k + d - 2) * (preds['g_coeffs'][k][0]**2 + hyp_har_multiplicity(d, k) * preds['g_coeffs'][k][1]**2) for k in range(len(all_modes))]))"
      ]
    },
    {
      "cell_type": "code",
      "execution_count": null,
      "metadata": {
        "id": "fQhYYSllkmeW"
      },
      "outputs": [],
      "source": [
        "def hypersphere_mean_grad_square_statistics(net_fns, d, k, n, exp_params):\n",
        "  target_f = {k : 1}\n",
        "  \n",
        "  msgs, mgs, mses_tr, mses_te = [], [], [], []\n",
        "  for _ in range(exp_params['n_trials']):\n",
        "    global key\n",
        "    key, subkey1, subkey2, subkey3 = random.split(key, 4)\n",
        "    train_X, train_y = get_hypersphere_dataset(d, [target_f], n, subkey1)\n",
        "    test_X, test_y = get_hypersphere_dataset(d, [target_f], exp_params['n_test'], subkey2)\n",
        "    train_y, test_y = train_y[0], test_y[0]\n",
        "    dataset = (train_X, train_y), (test_X, test_y)\n",
        "\n",
        "    results = net_predictions(\n",
        "        net_fns,\n",
        "        dataset,                       \n",
        "        n_epochs=exp_params['n_epochs'],\n",
        "        lr=exp_params['lr'],\n",
        "        stop_mse=exp_params['stop_mse'],\n",
        "        print_every=exp_params['print_every'],\n",
        "        return_params=True,\n",
        "        subkey=subkey3\n",
        "        )\n",
        "    \n",
        "    apply_fn, params = results['apply_fn'], results['params']\n",
        "    input_grad = grad(lambda X: apply_fn(params, X).sum())\n",
        "\n",
        "    grads = input_grad(test_X)\n",
        "    radial_projections = (grads * test_X).sum(axis=1)[:,None] * test_X\n",
        "    orthograds = grads - radial_projections\n",
        "    msgs += [(orthograds**2).sum(axis=1).mean().item()]\n",
        "    mgs += [((orthograds**2).sum(axis=1)**.5).mean().item()]\n",
        "    mses_tr += [mse(train_y, results['train_preds'])]\n",
        "    mses_te += [mse(test_y, results['test_preds'])]\n",
        "  \n",
        "  msgs, mgs, mses_tr, mses_te = [np.array(arr) for arr in [msgs, mgs, mses_tr, mses_te]]\n",
        "  results = {msr : (arr.mean().item(), arr.std().item()) for (msr, arr) in zip(['msg', 'mg', 'mse_tr', 'mse_te'], [msgs, mgs, mses_tr, mses_te])}\n",
        "\n",
        "  return results"
      ]
    },
    {
      "cell_type": "markdown",
      "metadata": {
        "id": "I-WamzRJkpFP"
      },
      "source": [
        "### Setup"
      ]
    },
    {
      "cell_type": "code",
      "execution_count": null,
      "metadata": {
        "id": "w3L8pGKvkvK_"
      },
      "outputs": [],
      "source": [
        "key = random.PRNGKey(17)"
      ]
    },
    {
      "cell_type": "code",
      "execution_count": null,
      "metadata": {
        "id": "AUi8RGmzADDI"
      },
      "outputs": [],
      "source": [
        "net_fns = get_net_fns(width=500, d_out=1, n_hidden_layers=4)"
      ]
    },
    {
      "cell_type": "code",
      "execution_count": null,
      "metadata": {
        "id": "BcDk7V-S_X8P"
      },
      "outputs": [],
      "source": [
        "ns_exp = [2**i for i in range(0,4)]\n",
        "ns_th = np.logspace(np.log10(ns_exp[0]), np.log10(ns_exp[-1]))"
      ]
    },
    {
      "cell_type": "code",
      "execution_count": null,
      "metadata": {
        "id": "pXTczvXr8viL"
      },
      "outputs": [],
      "source": [
        "ds = [3, 5, 8]\n",
        "ks = [2, 3]"
      ]
    },
    {
      "cell_type": "code",
      "execution_count": null,
      "metadata": {
        "id": "gmdvnUSlAeiM"
      },
      "outputs": [],
      "source": [
        "exp_params = {\n",
        "    'n_epochs': 10000,\n",
        "    'lr': .5,\n",
        "    'stop_mse': 10**-5,\n",
        "    'print_every': 1000,\n",
        "    'n_trials' : 30,\n",
        "    'n_test' : 5000\n",
        "}"
      ]
    },
    {
      "cell_type": "markdown",
      "metadata": {
        "id": "S5Q6ny249UgG"
      },
      "source": [
        "### Theory"
      ]
    },
    {
      "cell_type": "code",
      "execution_count": null,
      "metadata": {
        "id": "26_6MzNn8zhd"
      },
      "outputs": [],
      "source": [
        "pred_msg = {}"
      ]
    },
    {
      "cell_type": "code",
      "execution_count": null,
      "metadata": {
        "id": "z8EaYr_V9FMo"
      },
      "outputs": [],
      "source": [
        "for d in ds:\n",
        "  for k in ks:\n",
        "    for i, n in enumerate(ns_th):\n",
        "      if i % 10 == 0:\n",
        "        print(d,k,n)\n",
        "      pred_msg[str(d) + ',' + str(k) + ',' + '%.3f'%n] = hypersphere_mean_grad_square_prediction(net_fns[2], d, k, n)"
      ]
    },
    {
      "cell_type": "code",
      "execution_count": null,
      "metadata": {
        "id": "H92KlUuD9T7u"
      },
      "outputs": [],
      "source": [
        "with open(main_dir+'/hypersphere/results_th.json', 'w') as file:\n",
        "  json.dump(pred_msg, file)"
      ]
    },
    {
      "cell_type": "markdown",
      "metadata": {
        "id": "dGbEi2em9Y70"
      },
      "source": [
        "### Net Experiments"
      ]
    },
    {
      "cell_type": "code",
      "execution_count": null,
      "metadata": {
        "id": "V1nO-qYc9dAq"
      },
      "outputs": [],
      "source": [
        "net_msg = {}"
      ]
    },
    {
      "cell_type": "code",
      "execution_count": null,
      "metadata": {
        "id": "AuNJt83Q9d-i"
      },
      "outputs": [],
      "source": [
        "for d in ds:\n",
        "  for k in ks:\n",
        "    print(d,k)\n",
        "    for n in ns_exp:\n",
        "      net_msg[f'{d},{k},{n}'] = hypersphere_mean_grad_square_statistics(net_fns, d, k, n, exp_params)"
      ]
    },
    {
      "cell_type": "code",
      "execution_count": null,
      "metadata": {
        "id": "cULRq1Ib9i_l"
      },
      "outputs": [],
      "source": [
        "with open(main_dir+'/hypersphere/results_net.json', 'w') as file:\n",
        "  json.dump(net_msg, file)"
      ]
    },
    {
      "cell_type": "markdown",
      "metadata": {
        "id": "EbmP4exHtX8m"
      },
      "source": [
        "# Load data and make figures"
      ]
    },
    {
      "cell_type": "markdown",
      "metadata": {
        "id": "d2XO5JZ8n2zo"
      },
      "source": [
        "##### Read in results"
      ]
    },
    {
      "cell_type": "code",
      "execution_count": null,
      "metadata": {
        "id": "w5kTsN1Cn2zp"
      },
      "outputs": [],
      "source": [
        "results = {domain:{'th':{},'kernel':{},'net':{}} for domain in domains}\n",
        "\n",
        "with open(main_dir + 'I/circle/results_th.json', 'r') as file:\n",
        "  results['circle']['th'] = json.load(file)\n",
        "with open(main_dir + 'I/circle/results_kernel.json', 'r') as file:\n",
        "  results['circle']['kernel'] = json.load(file)\n",
        "with open(main_dir + 'I/circle/results_net.json', 'r') as file:\n",
        "  results['circle']['net'] = json.load(file)\n",
        "\n",
        "with open(main_dir + 'I/hypersphere/results_th.json', 'r') as file:\n",
        "  results['hypersphere']['th'] = json.load(file)\n",
        "with open(main_dir + 'I/hypersphere/results_net.json', 'r') as file:\n",
        "  results['hypersphere']['net'] = json.load(file)"
      ]
    },
    {
      "cell_type": "markdown",
      "metadata": {
        "id": "DPkh7ZuVn2zp"
      },
      "source": [
        "##### Convert results from string keys to tuple keys"
      ]
    },
    {
      "cell_type": "code",
      "execution_count": null,
      "metadata": {
        "id": "0WSS6lwln2zp"
      },
      "outputs": [],
      "source": [
        "for domain in domains:\n",
        "  for rtype in ['th','kernel','net']:\n",
        "    keys = list(results[domain][rtype].keys())\n",
        "    for key in keys:\n",
        "      if isinstance(key, str):\n",
        "        if domain == 'circle':\n",
        "          k, n = [round(float(x)) if float(x) == round(float(x)) else float(x) for x in key.split(',')]\n",
        "          results[domain][rtype][(k, n)] = results[domain][rtype][key]\n",
        "        elif domain == 'hypersphere':\n",
        "          d, k, n = [round(float(x)) if float(x) == round(float(x)) else float(x) for x in key.split(',')]\n",
        "          results[domain][rtype][(d, k, n)] = results[domain][rtype][key]\n",
        "        del results[domain][rtype][key]"
      ]
    },
    {
      "cell_type": "markdown",
      "metadata": {
        "id": "8Bz_iBiHn2zp"
      },
      "source": [
        "##### Extract some metadata"
      ]
    },
    {
      "cell_type": "code",
      "execution_count": null,
      "metadata": {
        "id": "p1rhCECbn2zp"
      },
      "outputs": [],
      "source": [
        "metadata = {domain : {key : {} for key in results[domain].keys()} for domain in domains}\n",
        "\n",
        "for domain in domains:\n",
        "  for rtype in metadata[domain].keys():\n",
        "    if domain == 'circle':\n",
        "      metadata[domain][rtype]['ks'] = sorted(list(set([key[0] for key in results[domain][rtype]])))\n",
        "      metadata[domain][rtype]['ns'] = sorted(list(set([key[1] for key in results[domain][rtype]])))\n",
        "    elif domain == 'hypersphere':\n",
        "      metadata[domain][rtype]['ds'] = sorted(list(set([key[0] for key in results[domain][rtype]])))\n",
        "      metadata[domain][rtype]['ks'] = sorted(list(set([key[1] for key in results[domain][rtype]])))\n",
        "      metadata[domain][rtype]['ns'] = sorted(list(set([key[2] for key in results[domain][rtype]])))"
      ]
    },
    {
      "cell_type": "markdown",
      "metadata": {
        "id": "xX5TG9LCpAIJ"
      },
      "source": [
        "## Unit Circle"
      ]
    },
    {
      "cell_type": "code",
      "execution_count": null,
      "metadata": {
        "id": "2WIRu58ztnx5"
      },
      "outputs": [],
      "source": [
        "ks = metadata['circle']['th']['ks']\n",
        "colors = {ks[i] : hsv_to_rgb(([0,.17,.4,.6,.8,.9][i],1,.7)) for i in range(len(ks))}"
      ]
    },
    {
      "cell_type": "code",
      "execution_count": null,
      "metadata": {
        "colab": {
          "base_uri": "https://localhost:8080/",
          "height": 356
        },
        "id": "29brB2srpAIJ",
        "outputId": "074af1de-1118-4acf-c5d6-6c9463574ad5"
      },
      "outputs": [
        {
          "data": {
            "image/png": "[encoded data removed]",
            "text/plain": [
              "<Figure size 504x360 with 1 Axes>"
            ]
          },
          "metadata": {
            "needs_background": "light"
          },
          "output_type": "display_data"
        }
      ],
      "source": [
        "fig, ax = plt.subplots(nrows=1, ncols=1, figsize=(7, 5))\n",
        "\n",
        "for k in ks:\n",
        "  if k == 16:\n",
        "    continue\n",
        "  \n",
        "  ns_th = [n for n in metadata['circle']['th']['ns'] if n >= 1]\n",
        "  ns_exp = np.array([n for n in metadata['circle']['kernel']['ns'] if n >= 1])\n",
        "\n",
        "  msg_th = np.array([results['circle']['th'][(k, n)] for n in ns_th])\n",
        "  msg_k_mean, msg_k_std = np.array([results['circle']['kernel'][(k, n)] for n in ns_exp]).T\n",
        "  msg_n_mean, msg_n_std = np.array([results['circle']['net'][(k, n)] for n in ns_exp]).T\n",
        "\n",
        "  msg_th, msg_k_mean, msg_k_std, msg_n_mean, msg_n_std = msg_th / k**2, msg_k_mean / k**2, msg_k_std / k**2, msg_n_mean / k**2, msg_n_std / k**2\n",
        "\n",
        "  ax.errorbar(ns_exp, msg_n_mean, yerr=msg_n_std, fmt='o', color=colors[k], ecolor=(0,0,0,.3), markersize=7, elinewidth=2, label=f'$k={k}$')\n",
        "  ax.errorbar(ns_exp, msg_k_mean, yerr=msg_k_std, fmt='^', color=colors[k], ecolor=(0,0,0,.3), markersize=7, elinewidth=2)\n",
        "  ax.plot(ns_th, msg_th, color=opacify(colors[k], alpha=.3))\n",
        "\n",
        "ax.set_xscale('log')\n",
        "ax.set_xticks([2**i for i in range(round(math.log2(ns_exp[0])), round(math.log2(ns_exp[-1])+1))], minor=False)\n",
        "ax.set_xticks([], minor=True)\n",
        "ax.set_xticklabels(['$2^{'+str(i)+'}$' for i in range(round(math.log2(ns_exp[0])), round(math.log2(ns_exp[-1])+1))], minor=False)\n",
        "ax.set_xticklabels([], minor=True)\n",
        "\n",
        "ax.set_xlabel('$n$', fontsize=25)\n",
        "ax.set_ylabel(\"$| \\\\! |\\\\hat{f} \\\\, '| \\\\! \\\\left.  |_2^2 \\\\ \\\\right/ \\\\ | \\\\! |f \\\\, '| \\\\! |_2^2$\", fontsize=25)\n",
        "\n",
        "ax.legend(fontsize=18)\n",
        "ax.tick_params(labelsize=15)\n",
        "\n",
        "plt.savefig('mean_squared_gradient_circle.pdf', bbox_inches='tight')"
      ]
    },
    {
      "cell_type": "markdown",
      "metadata": {
        "id": "7yV_0bmV8LXI"
      },
      "source": [
        "## Hypersphere"
      ]
    },
    {
      "cell_type": "code",
      "execution_count": null,
      "metadata": {
        "id": "g_imc1f18yC9"
      },
      "outputs": [],
      "source": [
        "ds = metadata['hypersphere']['th']['ds']\n",
        "ks = metadata['hypersphere']['th']['ks']\n",
        "ns_th = [n for n in metadata['hypersphere']['th']['ns']]\n",
        "ns_exp = np.array([n for n in metadata['hypersphere']['net']['ns']])\n",
        "\n",
        "colors = {ds[i] : hsv_to_rgb(([0,.17,.4,.6,.8,.9][i],1,.7)) for i in range(len(ds))}"
      ]
    },
    {
      "cell_type": "code",
      "execution_count": null,
      "metadata": {
        "colab": {
          "base_uri": "https://localhost:8080/",
          "height": 302
        },
        "id": "BU3ALehW8yC-",
        "outputId": "f6625879-b3bd-414d-b70f-f4543cc71893"
      },
      "outputs": [
        {
          "data": {
            "image/png": "[encoded data removed]",
            "text/plain": [
              "<Figure size 504x288 with 1 Axes>"
            ]
          },
          "metadata": {
            "needs_background": "light"
          },
          "output_type": "display_data"
        }
      ],
      "source": [
        "fig, ax = plt.subplots(nrows=1, ncols=1, figsize=(7, 4))\n",
        "\n",
        "k = 2\n",
        "\n",
        "for d in ds:\n",
        "  \n",
        "  msg_th = np.array([results['hypersphere']['th'][(d, k, n)] for n in ns_th])\n",
        "  \n",
        "  msg_n_mean, msg_n_std = np.array([results['hypersphere']['net'][(d, k, n)]['msg'] for n in ns_exp]).T\n",
        "\n",
        "  msg_th, msg_n_mean, msg_n_std = msg_th / (k * (k + d - 2)), msg_n_mean / (k * (k + d - 2)), msg_n_std / (k * (k + d - 2))\n",
        "\n",
        "  ax.errorbar(ns_exp, msg_n_mean, yerr=msg_n_std, fmt='o', color=colors[d], ecolor=(0,0,0,.3), markersize=7, elinewidth=2, label=f'$d={d}$')\n",
        "\n",
        "  ax.plot(ns_th, msg_th, color=opacify(colors[d], alpha=.3))\n",
        "\n",
        "ax.set_xscale('log')\n",
        "ax.set_xticks([2**i for i in range(round(math.log2(ns_exp[0])), round(math.log2(ns_exp[-1])+1))], minor=False)\n",
        "ax.set_xticks([], minor=True)\n",
        "ax.set_xticklabels(['$2^{'+str(i)+'}$' for i in range(round(math.log2(ns_exp[0])), round(math.log2(ns_exp[-1])+1))], minor=False)\n",
        "ax.set_xticklabels([], minor=True)\n",
        "\n",
        "ax.set_xlabel('$n$', fontsize=25)\n",
        "ax.set_ylabel(\"$| \\\\! | \\\\nabla \\\\hat{f} \\\\, | \\\\! \\\\left.  |_2^2 \\\\ \\\\right/ \\\\ | \\\\! | \\\\nabla f \\\\, | \\\\! |_2^2$\", fontsize=25)\n",
        "\n",
        "ax.legend(fontsize=18)\n",
        "ax.tick_params(labelsize=15)\n",
        "\n",
        "plt.savefig('mean_squared_gradient_sphere.pdf', bbox_inches='tight')"
      ]
    }
  ],
  "metadata": {
    "colab": {
      "name": "eigenlearning exp - mean squared gradient",
      "provenance": []
    },
    "kernelspec": {
      "display_name": "research",
      "language": "python",
      "name": "python3"
    },
    "language_info": {
      "name": "python",
      "version": "3.10.4"
    },
    "vscode": {
      "interpreter": {
        "hash": "2d837e875acc4e32bb84993a845eddeb519c86b2a2fba1165e2cdc1f52f9c53d"
      }
    }
  },
  "nbformat": 4,
  "nbformat_minor": 0
}
